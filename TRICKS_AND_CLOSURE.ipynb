{
  "nbformat": 4,
  "nbformat_minor": 0,
  "metadata": {
    "colab": {
      "name": "TRICKS_AND_CLOSURE.ipynb",
      "provenance": [],
      "authorship_tag": "ABX9TyOb//RleuCOlw9PW7Oause/",
      "include_colab_link": true
    },
    "kernelspec": {
      "name": "python3",
      "display_name": "Python 3"
    },
    "language_info": {
      "name": "python"
    }
  },
  "cells": [
    {
      "cell_type": "markdown",
      "metadata": {
        "id": "view-in-github",
        "colab_type": "text"
      },
      "source": [
        "<a href=\"https://colab.research.google.com/github/CameronKenworthyCode/IML/blob/master/TRICKS_AND_CLOSURE.ipynb\" target=\"_parent\"><img src=\"https://colab.research.google.com/assets/colab-badge.svg\" alt=\"Open In Colab\"/></a>"
      ]
    },
    {
      "cell_type": "code",
      "metadata": {
        "colab": {
          "base_uri": "https://localhost:8080/"
        },
        "id": "s_yh9xG-iI4M",
        "outputId": "91a41882-598c-48a3-a7ff-e6a578a9e7ae"
      },
      "source": [
        "# fibonacci closure\n",
        "\n",
        "def fibonacci(n):\n",
        "  def generator():\n",
        "    x1 = 0\n",
        "    x2 = 1\n",
        "    def get_next_number():\n",
        "      nonlocal x1, x2\n",
        "      x3 = x1 + x2\n",
        "      x1, x2 = x2, x3\n",
        "      return x3\n",
        "    return get_next_number\n",
        "  \n",
        "  # driver\n",
        "  f = generator()\n",
        "  for i in range(2, n+1):\n",
        "    num = f()\n",
        "  return num\n",
        "\n",
        "fibonacci(1000)"
      ],
      "execution_count": null,
      "outputs": [
        {
          "output_type": "execute_result",
          "data": {
            "text/plain": [
              "43466557686937456435688527675040625802564660517371780402481729089536555417949051890403879840079255169295922593080322634775209689623239873322471161642996440906533187938298969649928516003704476137795166849228875"
            ]
          },
          "metadata": {
            "tags": []
          },
          "execution_count": 7
        }
      ]
    },
    {
      "cell_type": "code",
      "metadata": {
        "id": "2WH0lac9ixcW"
      },
      "source": [
        ""
      ],
      "execution_count": null,
      "outputs": []
    }
  ]
}